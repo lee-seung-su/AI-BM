{
 "cells": [
  {
   "cell_type": "markdown",
   "metadata": {},
   "source": [
    "## 싸인 함수 회귀분석 (Sine Regression)"
   ]
  },
  {
   "cell_type": "code",
   "execution_count": 1,
   "metadata": {},
   "outputs": [],
   "source": [
    "try:\n",
    "  # %tensorflow_version only exists in Colab.\n",
    "  %tensorflow_version 2.x\n",
    "except Exception:\n",
    "  pass"
   ]
  },
  {
   "cell_type": "markdown",
   "metadata": {},
   "source": [
    "#### Package Import"
   ]
  },
  {
   "cell_type": "code",
   "execution_count": 2,
   "metadata": {},
   "outputs": [
    {
     "name": "stdout",
     "output_type": "stream",
     "text": [
      "2.0.0\n"
     ]
    }
   ],
   "source": [
    "import tensorflow as tf\n",
    "import numpy as np\n",
    "import matplotlib.pyplot as plt\n",
    "\n",
    "print(tf.__version__) "
   ]
  },
  {
   "cell_type": "markdown",
   "metadata": {},
   "source": [
    "## 데이터 생성"
   ]
  },
  {
   "cell_type": "code",
   "execution_count": 3,
   "metadata": {},
   "outputs": [
    {
     "data": {
      "text/plain": [
       "<matplotlib.collections.PathCollection at 0x1cfd94c01c8>"
      ]
     },
     "execution_count": 3,
     "metadata": {},
     "output_type": "execute_result"
    },
    {
     "data": {
      "image/png": "[encoded data removed]",
      "text/plain": [
       "<Figure size 432x288 with 1 Axes>"
      ]
     },
     "metadata": {
      "needs_background": "light"
     },
     "output_type": "display_data"
    }
   ],
   "source": [
    "# generate the data\n",
    "inputs = np.linspace(-2*np.pi, 2*np.pi, 10000)[:, None]\n",
    "outputs = np.sin(inputs) + 0.05 * np.random.normal(size=[len(inputs),1])\n",
    "\n",
    "plt.scatter(inputs[:, 0], outputs[:, 0], s=0.1, color='k', marker='o')"
   ]
  },
  {
   "cell_type": "markdown",
   "metadata": {},
   "source": [
    "## 모델 정의"
   ]
  },
  {
   "cell_type": "code",
   "execution_count": 4,
   "metadata": {},
   "outputs": [
    {
     "ename": "SyntaxError",
     "evalue": "invalid syntax (<ipython-input-4-6e0bc5a5f773>, line 6)",
     "output_type": "error",
     "traceback": [
      "\u001b[1;36m  File \u001b[1;32m\"<ipython-input-4-6e0bc5a5f773>\"\u001b[1;36m, line \u001b[1;32m6\u001b[0m\n\u001b[1;33m    W1 = # your code\u001b[0m\n\u001b[1;37m                    ^\u001b[0m\n\u001b[1;31mSyntaxError\u001b[0m\u001b[1;31m:\u001b[0m invalid syntax\n"
     ]
    }
   ],
   "source": [
    "class Model(tf.Module):\n",
    "    def __init__(self):\n",
    "        # create variables\n",
    "        initializer = tf.initializers.GlorotUniform()\n",
    "        W0 = tf.Variable(initializer(shape=[1, 20]), dtype=tf.float32, name='W0')\n",
    "        W1 = # your code\n",
    "        W2 = # your code\n",
    "\n",
    "        b0 = # your code\n",
    "        b1 = # your code\n",
    "        b2 = # your code\n",
    "\n",
    "        self.weights = [W0, W1, W2]\n",
    "        self.biases = [b0, b1, b2]\n",
    "        self.activations = [tf.nn.relu, tf.nn.relu, None]\n",
    "    \n",
    "    def __call__(self, input):\n",
    "        x = input\n",
    "        for W, b, activation in zip(self.weights, self.biases, self.activations):\n",
    "            # affine transformation (Hint : tf. matmul를 이용해서 작성)\n",
    "            x = # your code\n",
    "            # activation\n",
    "            if activation is not None:\n",
    "                x = # your code\n",
    "        return x"
   ]
  },
  {
   "cell_type": "markdown",
   "metadata": {},
   "source": [
    "## 모델 훈련"
   ]
  },
  {
   "cell_type": "code",
   "execution_count": null,
   "metadata": {
    "scrolled": true
   },
   "outputs": [],
   "source": [
    "model = Model()\n",
    "optimizer = tf.optimizers.Adam() # create optimizer\n",
    "\n",
    "# run training\n",
    "batch_size = 32\n",
    "for training_step in range(10000):\n",
    "    # get a random subset of the training data\n",
    "    indices = np.random.randint(low=0, high=len(inputs), size=batch_size)\n",
    "    input_batch = tf.Variable(inputs[indices], dtype=tf.float32, name='input')\n",
    "    output_batch = tf.Variable(outputs[indices], dtype=tf.float32, name='output')\n",
    "    \n",
    "    with tf.GradientTape() as tape:\n",
    "        output_pred = model(input_batch)\n",
    "        # mean squared loss (Hint : tf.reduce_mean와 tf.square를 이용해서 작성)\n",
    "        mse = # your code\n",
    "        # gradient 계산\n",
    "        grads  = # your code\n",
    "        # parameter update\n",
    "        optimizer. # your code\n",
    "        \n",
    "    if training_step % 1000 == 0:\n",
    "        print('{0:04d} mse: {1:.3f}'.format(training_step, mse))"
   ]
  },
  {
   "cell_type": "markdown",
   "metadata": {},
   "source": [
    "## 테스트"
   ]
  },
  {
   "cell_type": "code",
   "execution_count": null,
   "metadata": {},
   "outputs": [],
   "source": [
    "test_input = tf.Variable(inputs, dtype=tf.float32, name='input')\n",
    "test_output = tf.Variable(outputs, dtype=tf.float32, name='Output')\n",
    "test_output_pred = model(test_input)\n",
    "\n",
    "plt.scatter(inputs[:, 0], test_output[:, 0], c='k', marker='o', s=0.1)\n",
    "plt.scatter(inputs[:, 0], test_output_pred[:, 0], c='r', marker='o', s=0.1)"
   ]
  }
 ],
 "metadata": {
  "kernelspec": {
   "display_name": "TF2.1",
   "language": "python",
   "name": "tf2.1"
  },
  "language_info": {
   "codemirror_mode": {
    "name": "ipython",
    "version": 3
   },
   "file_extension": ".py",
   "mimetype": "text/x-python",
   "name": "python",
   "nbconvert_exporter": "python",
   "pygments_lexer": "ipython3",
   "version": "3.7.4"
  }
 },
 "nbformat": 4,
 "nbformat_minor": 2
}
