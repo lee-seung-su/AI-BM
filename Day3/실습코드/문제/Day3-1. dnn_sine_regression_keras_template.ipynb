{
 "cells": [
  {
   "cell_type": "markdown",
   "metadata": {
    "colab_type": "text",
    "id": "8AyUT-YF7MgP"
   },
   "source": [
    "## 싸인 함수 회귀분석 (Sine Regression)"
   ]
  },
  {
   "cell_type": "code",
   "execution_count": null,
   "metadata": {
    "colab": {},
    "colab_type": "code",
    "id": "gfPDhWwI7MgQ"
   },
   "outputs": [],
   "source": [
    "try:\n",
    "  # %tensorflow_version only exists in Colab.\n",
    "  %tensorflow_version 2.x\n",
    "except Exception:\n",
    "  pass"
   ]
  },
  {
   "cell_type": "code",
   "execution_count": null,
   "metadata": {
    "colab": {},
    "colab_type": "code",
    "id": "AVpv6npN7MgV",
    "outputId": "c9a72310-52cb-4583-85c1-21c3942855a9"
   },
   "outputs": [],
   "source": [
    "import tensorflow as tf\n",
    "from tensorflow import keras\n",
    "import numpy as np\n",
    "import matplotlib.pyplot as plt\n",
    "\n",
    "print(tf.__version__) "
   ]
  },
  {
   "cell_type": "markdown",
   "metadata": {
    "colab_type": "text",
    "id": "H9zynqX67Mgb"
   },
   "source": [
    "## 데이터 생성"
   ]
  },
  {
   "cell_type": "code",
   "execution_count": null,
   "metadata": {
    "colab": {},
    "colab_type": "code",
    "id": "5M02G5SX7Mgc",
    "outputId": "480e1ca9-4865-4132-9148-97791eafeda1"
   },
   "outputs": [],
   "source": [
    "# generate the data\n",
    "inputs = np.linspace(-2*np.pi, 2*np.pi, 10000)[:, None]\n",
    "outputs = np.sin(inputs) + 0.05 * np.random.normal(size=[len(inputs),1])\n",
    "\n",
    "plt.scatter(inputs[:, 0], outputs[:, 0], s=0.1, color='k', marker='o')"
   ]
  },
  {
   "cell_type": "markdown",
   "metadata": {
    "colab_type": "text",
    "id": "mIK6xMp87Mgg"
   },
   "source": [
    "## 모델 정의\n",
    "#### Q. `tf.keras.layers.Dense`함수를 이용해서 Fully Connected Layer를 구성해 보시오."
   ]
  },
  {
   "cell_type": "code",
   "execution_count": null,
   "metadata": {
    "colab": {},
    "colab_type": "code",
    "id": "HP9XKw_x7Mgg"
   },
   "outputs": [],
   "source": [
    "# Dense를 이용해서 3계층 신경망을 구축하시오.\n",
    "# hidden 20, hidden 20, output 1\n",
    "model = keras.Sequential(#your code)"
   ]
  },
  {
   "cell_type": "markdown",
   "metadata": {
    "colab_type": "text",
    "id": "UeRBT5ru7Mgj"
   },
   "source": [
    "## 모델 훈련 설정\n",
    "#### Q. 훈련에 필요한 Optimizer, Loss, Metrics 설정하시오."
   ]
  },
  {
   "cell_type": "code",
   "execution_count": null,
   "metadata": {
    "colab": {},
    "colab_type": "code",
    "id": "k1LsDuSq7Mgj",
    "outputId": "392166ae-cf5e-4910-9ec5-29e06fbb003d",
    "scrolled": true
   },
   "outputs": [],
   "source": [
    "# loss, optimizer, metric 설정 \n",
    "# optimizer는 'adam'으로 metric은 'mae', 'mse'로 설정\n",
    "model.compile(optimizer= #your code,\n",
    "              loss= #your code,\n",
    "              metrics= #your code) "
   ]
  },
  {
   "cell_type": "markdown",
   "metadata": {},
   "source": [
    "## 모델 훈련\n",
    "#### Q. 모델을 훈련하기 위해 training set, label, epoch 등을 지정하시오."
   ]
  },
  {
   "cell_type": "code",
   "execution_count": null,
   "metadata": {},
   "outputs": [],
   "source": [
    "# epoch는 20 이상\n",
    "model.fit(#your code)"
   ]
  },
  {
   "cell_type": "code",
   "execution_count": null,
   "metadata": {},
   "outputs": [],
   "source": [
    "test_loss, test_mse, test_mae = model.evaluate(inputs, outputs, verbose=0)\n",
    "print('\\n테스트 MSE:', test_mse)"
   ]
  },
  {
   "cell_type": "markdown",
   "metadata": {
    "colab_type": "text",
    "id": "ZwNcu-E97Mgm"
   },
   "source": [
    "## 테스트"
   ]
  },
  {
   "cell_type": "code",
   "execution_count": null,
   "metadata": {
    "colab": {},
    "colab_type": "code",
    "id": "uQRKT5oR7Mgm",
    "outputId": "9a9aeab1-7557-408f-8eb2-cd97a272c8a4"
   },
   "outputs": [],
   "source": [
    "test_output_pred = model.predict(inputs)\n",
    "\n",
    "plt.scatter(inputs[:, 0], outputs[:, 0], c='k', marker='o', s=0.1)\n",
    "plt.scatter(inputs[:, 0], test_output_pred[:, 0], c='r', marker='o', s=0.1)"
   ]
  }
 ],
 "metadata": {
  "colab": {
   "collapsed_sections": [],
   "name": "실습2. dnn_sine_regression.ipynb",
   "provenance": []
  },
  "kernelspec": {
   "display_name": "TensorFlow CPU",
   "language": "python",
   "name": "tesorflow2.0"
  },
  "language_info": {
   "codemirror_mode": {
    "name": "ipython",
    "version": 3
   },
   "file_extension": ".py",
   "mimetype": "text/x-python",
   "name": "python",
   "nbconvert_exporter": "python",
   "pygments_lexer": "ipython3",
   "version": "3.7.6"
  }
 },
 "nbformat": 4,
 "nbformat_minor": 1
}
