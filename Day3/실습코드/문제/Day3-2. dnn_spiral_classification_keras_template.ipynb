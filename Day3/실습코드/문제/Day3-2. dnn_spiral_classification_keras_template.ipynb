{
 "cells": [
  {
   "attachments": {},
   "cell_type": "markdown",
   "metadata": {},
   "source": [
    "## Spiral Data Classification"
   ]
  },
  {
   "cell_type": "code",
   "execution_count": null,
   "metadata": {},
   "outputs": [],
   "source": [
    "try:\n",
    "  # %tensorflow_version only exists in Colab.\n",
    "  %tensorflow_version 2.x\n",
    "except Exception:\n",
    "  pass"
   ]
  },
  {
   "cell_type": "code",
   "execution_count": null,
   "metadata": {},
   "outputs": [],
   "source": [
    "import tensorflow as tf\n",
    "from tensorflow import keras\n",
    "import numpy as np\n",
    "import matplotlib.pyplot as plt\n",
    "\n",
    "print(tf.__version__) "
   ]
  },
  {
   "cell_type": "markdown",
   "metadata": {},
   "source": [
    "## 데이터 생성"
   ]
  },
  {
   "cell_type": "markdown",
   "metadata": {},
   "source": [
    "#### Spiral Data Generation 함수 정의"
   ]
  },
  {
   "cell_type": "code",
   "execution_count": null,
   "metadata": {},
   "outputs": [],
   "source": [
    "theta = 4\n",
    "\n",
    "# generate the data\n",
    "def generate_spiral_dataset(num_data, num_class, num_dim=2):\n",
    "    input_data = np.zeros((num_data*num_class,num_dim)) # data matrix (each row = single example)\n",
    "    output_data = np.zeros(num_data*num_class, dtype='uint8') # class labels\n",
    "\n",
    "    for j in range(num_class):\n",
    "      ix = range(num_data*j,num_data*(j+1))\n",
    "      r = np.linspace(0.0,1,num_data) # radius [0,1]\n",
    "      t = np.linspace(j*theta,(j+1)*theta,num_data) + np.random.randn(num_data)*0.2 # theta [0, 4]\n",
    "      input_data[ix] = np.c_[r*np.sin(t), r*np.cos(t)]\n",
    "      output_data[ix] = j\n",
    "    \n",
    "    return input_data, output_data"
   ]
  },
  {
   "cell_type": "markdown",
   "metadata": {},
   "source": [
    "#### 훈련 데이터, 테스트 데이터 생성"
   ]
  },
  {
   "cell_type": "code",
   "execution_count": null,
   "metadata": {},
   "outputs": [],
   "source": [
    "N = 200 # number of points per class\n",
    "D = 2 # dimensionality\n",
    "K = 3 # number of classes\n",
    "\n",
    "train_x, train_y = generate_spiral_dataset(N, K, D)\n",
    "test_x, test_y = generate_spiral_dataset(N, K, D)\n",
    "\n",
    "# lets visualize the data:\n",
    "plt.figure(figsize=(14,5))\n",
    "plt.subplot(1,2,1)\n",
    "plt.scatter(train_x[:, 0], train_x[:, 1], c=train_y, s=40, cmap=plt.cm.Spectral)\n",
    "plt.xlabel(\"Train Dataset\")\n",
    "plt.subplot(1,2,2)\n",
    "plt.scatter(test_x[:, 0], test_x[:, 1], c=test_y, s=40, cmap=plt.cm.Spectral)\n",
    "plt.xlabel(\"Test Dataset\")\n",
    "plt.show()"
   ]
  },
  {
   "cell_type": "markdown",
   "metadata": {},
   "source": [
    "## 모델 정의\n",
    "#### Q. `tf.keras.layers.Dense`함수를 이용해서 Fully Connected Layer를 구성해 보시오."
   ]
  },
  {
   "cell_type": "code",
   "execution_count": null,
   "metadata": {},
   "outputs": [],
   "source": [
    "# Dense를 이용해서 3계층 신경망을 구축하시오.\n",
    "# hidden 20, hidden 20, output K\n",
    "# 첫번째 Dense 계층에 input_shape을 지정하시오\n",
    "model = keras.Sequential(#your code)"
   ]
  },
  {
   "cell_type": "markdown",
   "metadata": {},
   "source": [
    "## 모델 훈련 설정\n",
    "#### Q. 훈련에 필요한 Optimizer, Loss, Metrics 설정하시오."
   ]
  },
  {
   "cell_type": "code",
   "execution_count": null,
   "metadata": {
    "scrolled": false
   },
   "outputs": [],
   "source": [
    "# loss, optimizer, metric 설정 \n",
    "# optimizer는 'adam'으로  metric은 ‘accuracy’로 설정\n",
    "model.compile(optimizer= #your code,\n",
    "              loss= #your code,\n",
    "              metrics= #your code) "
   ]
  },
  {
   "cell_type": "markdown",
   "metadata": {},
   "source": [
    "## 모델 훈련\n",
    "#### Q. 모델을 훈련하기 위해 training set, label, epoch 등을 지정하시오."
   ]
  },
  {
   "cell_type": "code",
   "execution_count": null,
   "metadata": {},
   "outputs": [],
   "source": [
    "# epoch는 100 이상\n",
    "model.fit(#your code)"
   ]
  },
  {
   "cell_type": "markdown",
   "metadata": {},
   "source": [
    "## 테스트"
   ]
  },
  {
   "cell_type": "code",
   "execution_count": null,
   "metadata": {},
   "outputs": [],
   "source": [
    "test_output_pred = model.predict(test_x)\n",
    "\n",
    "plt.figure(figsize=(14,5))\n",
    "plt.subplot(1,2,1)\n",
    "plt.scatter(test_x[:, 0], test_x[:, 1], c=test_y, s=40, cmap=plt.cm.Spectral)\n",
    "plt.xlabel(\"Test Dataset\")\n",
    "plt.subplot(1,2,2)\n",
    "plt.scatter(test_x[:, 0], test_x[:, 1], c=test_output_pred, s=40, cmap=plt.cm.Spectral)\n",
    "plt.xlabel(\"Prediction\")\n",
    "plt.show()"
   ]
  }
 ],
 "metadata": {
  "kernelspec": {
   "display_name": "TensorFlow CPU",
   "language": "python",
   "name": "tesorflow2.0"
  },
  "language_info": {
   "codemirror_mode": {
    "name": "ipython",
    "version": 3
   },
   "file_extension": ".py",
   "mimetype": "text/x-python",
   "name": "python",
   "nbconvert_exporter": "python",
   "pygments_lexer": "ipython3",
   "version": "3.7.6"
  }
 },
 "nbformat": 4,
 "nbformat_minor": 2
}
