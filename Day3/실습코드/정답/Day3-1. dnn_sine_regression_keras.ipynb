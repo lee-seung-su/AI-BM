{
 "cells": [
  {
   "cell_type": "markdown",
   "metadata": {
    "colab_type": "text",
    "id": "8AyUT-YF7MgP"
   },
   "source": [
    "## 싸인 함수 회귀분석 (Sine Regression)"
   ]
  },
  {
   "cell_type": "code",
   "execution_count": 1,
   "metadata": {
    "colab": {},
    "colab_type": "code",
    "id": "gfPDhWwI7MgQ"
   },
   "outputs": [],
   "source": [
    "try:\n",
    "  # %tensorflow_version only exists in Colab.\n",
    "  %tensorflow_version 2.x\n",
    "except Exception:\n",
    "  pass"
   ]
  },
  {
   "cell_type": "code",
   "execution_count": 2,
   "metadata": {
    "colab": {},
    "colab_type": "code",
    "id": "AVpv6npN7MgV",
    "outputId": "c9a72310-52cb-4583-85c1-21c3942855a9"
   },
   "outputs": [
    {
     "name": "stdout",
     "output_type": "stream",
     "text": [
      "2.3.0\n"
     ]
    }
   ],
   "source": [
    "import tensorflow as tf\n",
    "from tensorflow import keras\n",
    "import numpy as np\n",
    "import matplotlib.pyplot as plt\n",
    "\n",
    "print(tf.__version__) "
   ]
  },
  {
   "cell_type": "code",
   "execution_count": 3,
   "metadata": {},
   "outputs": [],
   "source": [
    "# 런타임에서 할당하는데 필요한 양만큼의 GPU 메모리를 할당\n",
    "gpus = tf.config.experimental.list_physical_devices('GPU')\n",
    "if gpus:\n",
    "  try:\n",
    "    tf.config.experimental.set_memory_growth(gpus[0], True)\n",
    "    tf.config.experimental.set_memory_growth(gpus[1], True)\n",
    "  except RuntimeError as e:\n",
    "    # 프로그램 시작시에 메모리 증가가 설정되어야만 합니다\n",
    "    print(e)"
   ]
  },
  {
   "cell_type": "markdown",
   "metadata": {
    "colab_type": "text",
    "id": "H9zynqX67Mgb"
   },
   "source": [
    "## 데이터 생성"
   ]
  },
  {
   "cell_type": "code",
   "execution_count": 4,
   "metadata": {
    "colab": {},
    "colab_type": "code",
    "id": "5M02G5SX7Mgc",
    "outputId": "480e1ca9-4865-4132-9148-97791eafeda1"
   },
   "outputs": [
    {
     "data": {
      "text/plain": [
       "<matplotlib.collections.PathCollection at 0x7f9401b3a0f0>"
      ]
     },
     "execution_count": 4,
     "metadata": {},
     "output_type": "execute_result"
    },
    {
     "data": {
      "image/png": "[encoded data removed]",
      "text/plain": [
       "<Figure size 432x288 with 1 Axes>"
      ]
     },
     "metadata": {
      "needs_background": "light"
     },
     "output_type": "display_data"
    }
   ],
   "source": [
    "# generate the data\n",
    "inputs = np.linspace(-2*np.pi, 2*np.pi, 10000)[:, None]\n",
    "outputs = np.sin(inputs) + 0.05 * np.random.normal(size=[len(inputs),1])\n",
    "\n",
    "plt.scatter(inputs[:, 0], outputs[:, 0], s=0.1, color='k', marker='o')"
   ]
  },
  {
   "cell_type": "markdown",
   "metadata": {
    "colab_type": "text",
    "id": "mIK6xMp87Mgg"
   },
   "source": [
    "## 모델 정의"
   ]
  },
  {
   "cell_type": "code",
   "execution_count": 5,
   "metadata": {
    "colab": {},
    "colab_type": "code",
    "id": "HP9XKw_x7Mgg"
   },
   "outputs": [],
   "source": [
    "model = keras.Sequential([\n",
    "    keras.layers.Dense(20, activation='relu', input_shape=[1]),\n",
    "    keras.layers.Dense(20, activation='relu'),\n",
    "    keras.layers.Dense(1)\n",
    "])"
   ]
  },
  {
   "cell_type": "code",
   "execution_count": null,
   "metadata": {},
   "outputs": [],
   "source": [
    "converter = tf.lite.TFLiteConverter.from_saved_model(saved_model_dir)\n",
    "converter.optimizations = [tf.lite.Optimize.DEFAULT]\n",
    "tflite_quant_model = converter.convert()"
   ]
  },
  {
   "cell_type": "markdown",
   "metadata": {
    "colab_type": "text",
    "id": "UeRBT5ru7Mgj"
   },
   "source": [
    "## 모델 훈련"
   ]
  },
  {
   "cell_type": "code",
   "execution_count": 6,
   "metadata": {
    "colab": {},
    "colab_type": "code",
    "id": "k1LsDuSq7Mgj",
    "outputId": "392166ae-cf5e-4910-9ec5-29e06fbb003d",
    "scrolled": true
   },
   "outputs": [
    {
     "name": "stdout",
     "output_type": "stream",
     "text": [
      "Epoch 1/20\n",
      "313/313 [==============================] - 1s 3ms/step - loss: 0.2874 - mae: 0.4566 - mse: 0.2874\n",
      "Epoch 2/20\n",
      "313/313 [==============================] - 1s 3ms/step - loss: 0.1456 - mae: 0.3029 - mse: 0.1456\n",
      "Epoch 3/20\n",
      "313/313 [==============================] - 1s 3ms/step - loss: 0.1418 - mae: 0.2905 - mse: 0.1418\n",
      "Epoch 4/20\n",
      "313/313 [==============================] - 1s 3ms/step - loss: 0.1424 - mae: 0.2908 - mse: 0.1424\n",
      "Epoch 5/20\n",
      "313/313 [==============================] - 1s 3ms/step - loss: 0.1399 - mae: 0.2876 - mse: 0.1399\n",
      "Epoch 6/20\n",
      "313/313 [==============================] - 1s 3ms/step - loss: 0.1359 - mae: 0.2831 - mse: 0.1359\n",
      "Epoch 7/20\n",
      "313/313 [==============================] - 1s 3ms/step - loss: 0.1301 - mae: 0.2761 - mse: 0.1301\n",
      "Epoch 8/20\n",
      "313/313 [==============================] - 1s 3ms/step - loss: 0.1144 - mae: 0.2541 - mse: 0.1144\n",
      "Epoch 9/20\n",
      "313/313 [==============================] - 1s 3ms/step - loss: 0.0824 - mae: 0.2048 - mse: 0.0824\n",
      "Epoch 10/20\n",
      "313/313 [==============================] - 1s 3ms/step - loss: 0.0578 - mae: 0.1673 - mse: 0.0578\n",
      "Epoch 11/20\n",
      "313/313 [==============================] - 1s 3ms/step - loss: 0.0423 - mae: 0.1372 - mse: 0.0423\n",
      "Epoch 12/20\n",
      "313/313 [==============================] - 1s 3ms/step - loss: 0.0317 - mae: 0.1158 - mse: 0.0317\n",
      "Epoch 13/20\n",
      "313/313 [==============================] - 1s 3ms/step - loss: 0.0241 - mae: 0.0995 - mse: 0.0241\n",
      "Epoch 14/20\n",
      "313/313 [==============================] - 1s 3ms/step - loss: 0.0189 - mae: 0.0881 - mse: 0.0189\n",
      "Epoch 15/20\n",
      "313/313 [==============================] - 1s 3ms/step - loss: 0.0155 - mae: 0.0811 - mse: 0.0155\n",
      "Epoch 16/20\n",
      "313/313 [==============================] - 1s 3ms/step - loss: 0.0124 - mae: 0.0749 - mse: 0.0124\n",
      "Epoch 17/20\n",
      "313/313 [==============================] - 1s 3ms/step - loss: 0.0101 - mae: 0.0684 - mse: 0.0101\n",
      "Epoch 18/20\n",
      "313/313 [==============================] - 1s 3ms/step - loss: 0.0086 - mae: 0.0645 - mse: 0.0086\n",
      "Epoch 19/20\n",
      "313/313 [==============================] - 1s 3ms/step - loss: 0.0075 - mae: 0.0620 - mse: 0.0075\n",
      "Epoch 20/20\n",
      "313/313 [==============================] - 1s 3ms/step - loss: 0.0065 - mae: 0.0591 - mse: 0.0065\n"
     ]
    },
    {
     "data": {
      "text/plain": [
       "<tensorflow.python.keras.callbacks.History at 0x7f94000e2828>"
      ]
     },
     "execution_count": 6,
     "metadata": {},
     "output_type": "execute_result"
    }
   ],
   "source": [
    "model.compile(optimizer='adam',\n",
    "              loss='mse',\n",
    "              metrics=['mae', 'mse'])\n",
    "\n",
    "model.fit(inputs, outputs, epochs=20)"
   ]
  },
  {
   "cell_type": "code",
   "execution_count": 7,
   "metadata": {},
   "outputs": [
    {
     "name": "stdout",
     "output_type": "stream",
     "text": [
      "Model: \"sequential\"\n",
      "_________________________________________________________________\n",
      "Layer (type)                 Output Shape              Param #   \n",
      "=================================================================\n",
      "dense (Dense)                (None, 20)                40        \n",
      "_________________________________________________________________\n",
      "dense_1 (Dense)              (None, 20)                420       \n",
      "_________________________________________________________________\n",
      "dense_2 (Dense)              (None, 1)                 21        \n",
      "=================================================================\n",
      "Total params: 481\n",
      "Trainable params: 481\n",
      "Non-trainable params: 0\n",
      "_________________________________________________________________\n"
     ]
    }
   ],
   "source": [
    "model.summary()"
   ]
  },
  {
   "cell_type": "code",
   "execution_count": 13,
   "metadata": {},
   "outputs": [
    {
     "name": "stdout",
     "output_type": "stream",
     "text": [
      "'Day3-1. dnn_sine_regression_keras.ipynb'\r\n",
      "'Day3-2. dnn_spiral_classification_keras.ipynb'\r\n",
      "'Day3-3. dnn_fashionmnist_classification.ipynb'\r\n",
      "'Day3-3. dnn_fashionmnist_classification_modelchange.ipynb'\r\n",
      " saved_model\r\n",
      " saved_weight\r\n"
     ]
    }
   ],
   "source": [
    "!ls"
   ]
  },
  {
   "cell_type": "code",
   "execution_count": 9,
   "metadata": {},
   "outputs": [
    {
     "name": "stdout",
     "output_type": "stream",
     "text": [
      "WARNING:tensorflow:From /usr/local/lib/python3.6/dist-packages/tensorflow/python/training/tracking/tracking.py:111: Model.state_updates (from tensorflow.python.keras.engine.training) is deprecated and will be removed in a future version.\n",
      "Instructions for updating:\n",
      "This property should not be used in TensorFlow 2.0, as updates are applied automatically.\n",
      "WARNING:tensorflow:From /usr/local/lib/python3.6/dist-packages/tensorflow/python/training/tracking/tracking.py:111: Layer.updates (from tensorflow.python.keras.engine.base_layer) is deprecated and will be removed in a future version.\n",
      "Instructions for updating:\n",
      "This property should not be used in TensorFlow 2.0, as updates are applied automatically.\n",
      "INFO:tensorflow:Assets written to: saved_model/my_model/assets\n"
     ]
    }
   ],
   "source": [
    "!mkdir -p saved_model\n",
    "model.save('saved_model/my_model') "
   ]
  },
  {
   "cell_type": "code",
   "execution_count": 10,
   "metadata": {},
   "outputs": [],
   "source": [
    "converter = tf.lite.TFLiteConverter.from_saved_model('saved_model/my_model')\n",
    "converter.optimizations = [tf.lite.Optimize.DEFAULT]\n",
    "tflite_quant_model = converter.convert()"
   ]
  },
  {
   "cell_type": "code",
   "execution_count": 17,
   "metadata": {},
   "outputs": [
    {
     "data": {
      "text/plain": [
       "tensorflow.python.keras.engine.sequential.Sequential"
      ]
     },
     "execution_count": 17,
     "metadata": {},
     "output_type": "execute_result"
    }
   ],
   "source": [
    "type(model)"
   ]
  },
  {
   "cell_type": "code",
   "execution_count": 16,
   "metadata": {},
   "outputs": [
    {
     "name": "stdout",
     "output_type": "stream",
     "text": [
      "b' \\x00\\x00\\x00TFL3\\x00\\x00\\x00\\x00\\x00\\x00\\x12\\x00\\x1c\\x00\\x04\\x00\\x08\\x00\\x0c\\x00\\x10\\x00\\x14\\x00\\x00\\x00\\x18\\x00\\x12\\x00\\x00\\x00\\x03\\x00\\x00\\x00h\\x0e\\x00\\x00\\xec\\x08\\x00\\x00\\xd4\\x08\\x00\\x00<\\x00\\x00\\x00\\x04\\x00\\x00\\x00\\x01\\x00\\x00\\x00\\x0c\\x00\\x00\\x00\\x08\\x00\\x0c\\x00\\x04\\x00\\x08\\x00\\x08\\x00\\x00\\x00\\x08\\x00\\x00\\x00\\x0b\\x00\\x00\\x00\\x13\\x00\\x00\\x00min_runtime_version\\x00\\x0c\\x00\\x00\\x00\\x88\\x08\\x00\\x00t\\x08\\x00\\x00\\x08\\x08\\x00\\x00\\x94\\x07\\x00\\x00\\x80\\x07\\x00\\x00\\x1c\\x07\\x00\\x00\\xc8\\x00\\x00\\x00d\\x00\\x00\\x00X\\x00\\x00\\x00D\\x00\\x00\\x000\\x00\\x00\\x00\\x04\\x00\\x00\\x00&\\xf8\\xff\\xff\\x04\\x00\\x00\\x00\\x10\\x00\\x00\\x001.5.0\\x00\\x00\\x00\\x00\\x00\\x00\\x00\\x00\\x00\\x00\\x00\\x00\\x00\\x00\\x00\\x00\\x00\\x00\\x00\\x00\\x00\\x00\\x00`\\xf2\\xff\\xff\\x00\\x00\\x00\\x00\\x00\\x00\\x00\\x00\\x00\\x00\\x00\\x00p\\xf2\\xff\\xff\\x00\\x00\\x00\\x00\\x00\\x00\\x00\\x00\\x00\\x00\\x00\\x00\\x80\\xf2\\xff\\xff\\x00\\x00\\x00\\x00v\\xf8\\xff\\xff\\x04\\x00\\x00\\x00P\\x00\\x00\\x00iF\\xa4\\xbe\\x15\\xa7\\xfa>?\\xdd\\xc8>\\xf2\\xf7\\xb1\\xbeT]\\x1d>>\\xd2\\xf1>W\\x8d\\xf6>\\x90\\r5\\xbf\\x83\\xe5\\xe5\\xbe\\xf0\\n\\xda>\\xacT\\xf8>\\xf9B\\xa3=D\\xb7\\xde>;\\xc6\\x04?\\xeb\\x9cL?x\\xe5 \\xbf\\x85\\x18F=t\\xce5\\xbf\\xd4\\xb9J\\xbfQ\\xfe\\xd2>\\x00\\x00\\x00\\x00\\xd6\\xf8\\xff\\xff\\x04\\x00\\x00\\x00@\\x06\\x00\\x00\\xfa\\xec\\\\\\xbe\\xe4\\x7f\\x98<\\xe7\\x08\\xa1\\xbe_\\xb5\\x8c>C\\xec.=B`\\x02\\xbf\\t\\x89\\t\\xbf`\\x00\\x88\\xbd~R#\\xbe\\x06\\xe0\\xad<f\\xb2\\\\\\xbfU\\xd6\\xd6>\\t#U\\xbd\\xf9,\\xc0>Q\\xda2>\\x11:\\xb1>>d\\x93>\\x82\\x07\\xa2>a\\x99\\xc4>_\\xd7\\xa6>3\\x10\\xd0<\\xeay\\\\\\xbe\\xa4\\xa2\\xf0=\\xf2\\x0cE>N\\x9d\\x81>\\xa0 \\x92>$\\xec\\x85\\xbem\\xae\\x9d=\\xf7\\xe0\\x86>\\xcdW\\x91>\\xaf\\x82\\xc5?\\xbd\\xd3n>@P\\x9c>O5u\\xbe\\x8b\\x8f\\xca\\xbe\\xcb\\x08y\\xbdV7\\xd2>\\x9a%Z>#\\xe9\\xda>\\xc5\\x1f\\x17\\xbf\\x9cDS\\xbe\\xe0\\xd3\\x92>?\\x03\\x1f\\xbe\\nQ\\xfc\\xbe\\xd7!\\xc4\\xbe\\xa3p\\x91>\\xd7\\xf1\\xea=\\x83v\\xff\\xbe\\x1b\\r0>\\x9f\\xe8\\xae\\xbeSu\\x11?b\\xc5\\xb1\\xbd\\x9a\\xbfe>\\x88\\xc0\\x96\\xbed\\xb8\\xaf=$\\x1b\\xac\\xbe\\x92\\nN>\\x0b\\xc7\\x93=\\x1e\\xe4\\x86\\xbe\\x1d\\x94\\x94>\\xc80\\x92\\xbe$7\\xc6\\xbd[\\xe7\\x87\\xbeJ\\xf4\\xa5\\xbd1\"4>\\xa3\\xf6\\x03\\xbf\\xa9\\t\\xde\\xbd\\x91\\xef\\xcc>\\xb4\\n \\xbdk\\x06\\xa6>~QI\\xbf/\\xc9\\xe2>\\xb2\\xae\\xbe>\\xeb:\\x01?\\x01\\xd6r>\\xaa\\xa9\\x98>b\\x1d\\xd3\\xbd\\xa8K[\\xbe\\x11\\xa4\\xb0>\\x8c\\xd5\\x16\\xbe\\xf6|\\xa7>@Y\\xb1\\xbd\\x90\\xbe\\x81\\xbdV\\xd6\\xb9\\xbe\\xde\\x83\\x85\\xbe\\rvO\\xbe\\xfc\\xd8\\x00>\\x80\\xe5\\xa5>^9f\\xbe\\x12(\\x81\\xbe\\xe6\\x93\\t\\xbe\\xf0\\x92?>\\xc1\\xac\\x80\\xbe4\\xd0\\x9e\\xbd\\xe0]y>1\\xa4a\\xbe\\x80s\\xdc\\xbbp,J>,\\xda\\xa5\\xbe\\xd8\\x94V\\xbd2i\\x1b\\xbe\\xab\\xbb\\x86>%\\x84q=\\xb9\\xc1\\x8c\\xbd\\x08\\xce\\x84>\\xd4U\\x05?\\x90\\xd7\\xf7>\\x99\\x96\\xae\\xbe\\xb5q\\x93<\\xe1p\\x88>D\\xb3\\x8b?\\xda\\xaa\\x0e\\xbeO\\x00\\t\\xbe=\\xb8\\xb2\\xbe\\x02j_>\\xf8\\xc1R>\\xce\\x99\\x0b>\\x9b`G\\xbeU\\xf6\\xd8\\xbeo;\\xdc=\\xdcj\\x87\\xbe@\\xf6\\xff\\xbb|\\x8b\\xeb>_\\x9b\\xa7>ru/>\\xd6n\\x86>{n*>:u\\xe4> \\x1e\\x0c\\xbd\\xe8\\xdb|\\xbe\\xe0K*>\\xa9\\xb4c\\xbd\\x0c\\xabL>BvC>\\xbf2E>4L\\xba=\\x8e\\x91\\x9d>[\\x98X\\xbe\\xc5&\\x15>\\xee\\xd8\\x1c\\xc0\\xcb\\xbc\\xb0>0\\x92\\xe7\\xbcY\\x85a\\xbe\\xabv\\xae>\\xa9v\\xf6\\xbd\\xe3\\xf8\\xd7\\xbe\\xf2\\xf2\\xb1\\xbe\\x0e\\xc8\\xbe>\\x9a\\xd9\\x9c=d\\x05\\xea\\xbd\\xae\\xa0\\x03\\xbf\\x03\\xe7P\\xbd\\x0f$\\xca>\\xc5x\\xdc>\\x92W\\xb5>.\\xea\\xf6\\xbd#|\\x05=M\\xe0M\\xbdS\"N\\xbe\\xd8V\\x06?\\xd8\\xde\\xd0>\\x85\\xec\\x02>\\x1e\\x1a\\x13\\xbe\\xd9\\xabU\\xbb\\xcd\\x9d\\xa0>\\xb3<p\\xbe\\xc0\\xd0s>\\x17\\xef\\xcd=\\xf3{\\x89\\xbe\\x8fo\\xc2>\\x9d?\\x8a\\xbfMmD>\\xae\\x905\\xbe\\xef70\\xbeh\\xc0\\x9d\\xbdT\\x97\\x81=%9\\x83>Ys\\xb8>S\\x8d^>\\xd2\\x11\\x89>\\xf7g\\xaa=Q\\xe3\\xac\\xbe\\x90f\\x86=\\x1ae\\x93\\xbe\\xe5\\xef\\x88\\xbei\\xf6o<\\xa7EP\\xbe\\x01\\x84\\xae\\xbe\\x83\\x9d\\r\\xbe\\xa0\\xb5C\\xbe\\xb0\\x88j>\\xce\\x93\\x99>\\x95\\x06\\x07\\xbe~\\ni\\xbe@`\\x00\\xbe\\xb7~\\x8f\\xbe\\\\\\x15b>\\xd4\\xd9I>\\x8c@\\xaf=F\\x14N>\\x8d\\xb2\\xd7\\xbe!M\\x12>\\x8e\\xad\\xd9\\xbe\\x03M\\xbb\\xbe\\xdc\\xd7\\xe7\\xbe\\x82\\xef\\x13?\\xc48\\xf9>X\\xb48\\xbf\\x98\\x0e\\x0e\\xbe*\\xcbt>\\xab\\xfd\\x1d?a\\xfa\\x95\\xbd2G\\x18\\xbe,\\xf5\\xcd\\xbe\\r\\x94\\x9f\\xbe\\xee\\xf6\\xf9=\\xbd\\xed\\t>0\\x88J\\xbeF\\x88<>f\\x1b\\xad>\\x8b\\xce\\x88:L7\\x90>gP\\x05?eS\\x1a\\xbe\\x15\\x82\\x92>\\xbbf\\xa5=M\\x91\\x8d\\xbc_\\xd32>\\xe5U\\x82>\\xcf\\x9d\\xc5\\xbe\\xe7\\xa5\\xd1>\\xc0O\\x9f\\xbe}\\x0e\\x00>\\x1a\\xd8\\x85\\xbe\\x1d\\x80O\\xbd\\xe1\\x179>\\xe7\\xbe\\x06<\\x1b\\xa8%>c~\\xdb=\\x1a\\xd4\\x81=\\xbd6I\\xbd \\x135\\xbc\\xa7\\xe4\\x1e\\xbee[V\\xbf\\xcc\\x01\\xc8\\xbbn!\\x9d>\\xef\\x00\\x87>U\\x12;\\xbf\\xc1\\xac\\xf6=\\xf4\\xde\\xf3=\\xf1^]?\\xf0\\xdc\\xe7\\xbe\\x17\\x8e-\\xbe\\xb7h\\x16\\xbf\\x03\\x81Y\\xbbc\\x83\\xab\\xbef\\xf5+\\xbe\\\\\\x81\\x81=\\xeb\"R=\\xae\\x0be>\\xb4\\xdb|\\xbb\\x89 I>J[\\x99>\\xbc&\\xc7>r\\xe1\\x95>\\xaa\\xd0|=\\xdb\\x12\\x99\\xbe\\x84w\\x91=\\x138\\x85\\xbe\\xabbe=S\\n\\x0b\\xbdv\\x93q\\xbe\\x05e)=r\\x02#\\xbe\\x7f\\xab\\xe6\\xbd\\xfa\\xe5;>j\\xb6\\x96>\\xf9&\\\\>i\\x8d`>l\\x95\\x8c\\xbf\\x0b`\\x17?\\xd2\\x00\\xc1\\xbe\\xdbjT>\\x91f\\x19>\\xad_d>\\xc0\\xa8\\xb8=3\\x8fM=\\x92E<\\xbd+x\\x89>\\xeb\\x8d\\x89>1\\xd5\\xbe?\\xf7\\x06\\x83>x\\x96\\xf6>\\x8d\\x8f\\x88>h\\xb1\\xf8\\xbd\\x0et\\x9d\\xbe\\xd1_\\xee>\\\\\\xac\\x80>\\xd2\\xf0\\x1f?u@-\\xbf\\xe1\\x0c\\xb1>\\xce\\n&\\xbez\\xdf\\xe0\\xbe\\xd8j\\xbf>\\x12>u>\\xef.\\xce\\xbd\\x9a\\x9e\\xdc=4=\\x82>I\\x1d\\xb8\\xbd\\xd9T\\xaf>d2\\x1d\\xbf$j(\\xbek\\x7f\\xc7=\\x91B]>\\xb3\\xfa-=\\xf6\\xa3\\xc7\\xbcH9\\x05>\\xc6W\\xda\\xbd\\xfd\\xf5\\xb2\\xbd\\xd8\\xef\\x12\\xbdX\\x84j\\xbe;\\xde\\xd9\\xbe\\xfdNt>\\xe8\\xa9\\xb3\\xbe\\xb6g\\x90\\xbd\\xcb\\x1by>{\\x16\\xac\\xbd\\xf8\\xe1\\\\\\xbd\\x86\\x08\\xd4\\xbe$@\\xae\\xbd\\xf8Z\\xc1\\xbeAJ\\x11\\xbe\\xb5:n\\xbe^\\xbf\\x80>\\xbbE\\xaa\\xbe\\x92\\x0b\\x86\\xbe^l\\x9a\\xbe\\x1c\\xa1\\xab=\\xaa\\xfd\\xb8\\xbeK?5>\\xfe\\x8cL\\xbfX]\\x00\\xbf\\x0co\\x13=\\x8c4\\xee=\\xc7\\'\\x88>\\xc7>\\x19\\xbf5W9>\\nK\\xf3\\xbb\\xef\\xae>\\xbfI\\x85D\\xbf\\xa5\\x15\\x01>\\x9a0?>\\xc0U\\x9f\\xbe\\xcd\\xa1\\xd5>9\\xbbX\\xbc\\x14\\xd70\\xbf\"\\xd5\\x04>\\xc4P\\xa5\\xbex\\xff\\xd1=W%\\x93?\\x8fMZ>jKi\\xbe\\x17\\xfa\\xe2\\xbd\\x1b\\xe1\\xb9\\xber\\x12\\xd0\\xbc\\x0e\\xdf6>)\\x95\\xdd\\xbeG\\x80K\\xbe\\xbf\\xc6\\x15>8\\xf8B=~\\xcb\\x96\\xbfAZ%>\\x89D\\x16=\\x1dB\\xb4\\xbe\\xa5\\xc84\\xbe\\xff\\xe8R\\xbe\\x8f\\xe4\\x94>\\x8bu,\\xbe\\x99\\x16\\xc2>F\\x82\\\\>\\xd0M\\xde=\\xb5\\xd3P\\xbd\\xcaV\\xdc>\\xed\\xa4\\x85\\xbe\\xca\\xa2\\x9e=\\xe1\\x0e\\xbd>\\xb7\\x82\\xdf>2\\xddh>?\\xb5\\xe5\\xbd\\x06>\\xfc\\xbcz\\x85\\xcf<\\xf1e\\x88=\\xf0\\xe1s>\\xc9z\\x98\\xbew\\xddY>\\x8a\\x8d&>\\xb9zV>w\\xcf\\x8b>\\x1f\\xbc\\xbf\\xbe\\x16hI\\xbf\\x00\\x00\\x00\\x00&\\xff\\xff\\xff\\x04\\x00\\x00\\x00P\\x00\\x00\\x00\\xec\\xa5\\x98>vT:>\\xa0\\xfd>\\xbd\\xae\\x9d\\x9e\\xbe\\xff~\\xca\\xbex\\xb4{=\\xdayi\\xbd(:\\xad\\xbe]\\xb9\\x89>~\\xfd\\n?\\xde\\xec2>\\xdb\\xbc0>5\\x96\\xd5>T\\xcbM\\xbe\\xe3\\x98N\\xbe\\xf7p\\x81>\\x0bez>j\\xf2\\x00\\xbe\\n\\xc6+>\\x05O\\x9c>\\x00\\x00\\x00\\x00\\x86\\xff\\xff\\xff\\x04\\x00\\x00\\x00\\x04\\x00\\x00\\x00\\xd5<G>\\x96\\xff\\xff\\xff\\x04\\x00\\x00\\x00P\\x00\\x00\\x00\\xe0\\xc5r\\xbe\\xcd&B>\\x8f\\xd7\\r>\\xb9\\x84\\x12\\xbe\\x00\\x00\\x00\\x00P\\x88s>\\x0b\\x14\\xb1>%PW\\xbe(\\x18a\\xbe\\xd9p\\'\\xbd\\xdfa\\x05>\\xf7\\xe7\\x06>>\\xean>\\xd3W[>\\x90\\xccQ=\\x98WE\\xbe\\xe7?\\xab\\xbd\\xcf_#\\xbd\\xfd\\xd6\\xcd\\xbd\\x0f \\xa3>\\x00\\x00\\x00\\x00\\x00\\x00\\x00\\x00\\x00\\x00\\x00\\x00\\x00\\x00\\x06\\x00\\x08\\x00\\x04\\x00\\x06\\x00\\x00\\x00\\x04\\x00\\x00\\x00P\\x00\\x00\\x00\\x9f\\x1e\\x8e\\xbe\\xa5\\x8fJ>\\xc9\\'O>`\\xfa\\x9e>\\x84\\x00\\x9a>\\x8a\\x17\\xca>\\xb3kn>n\\x97\\r>t\\\\\\xb2\\xbd\\xe2d\\xb2\\xbe\\xab.\\\\\\xbf\\x1e\\x9e^\\xbe\\x82\\xbe\\x07\\xbf\\x18\\\\\\xdf\\xbd\\x91_<\\xbe\\x07&\\x9f>\\xfe\\xc2\\x0c\\xbf^\\x90\\x82=\\x06\\x9e\\xc4\\xbeV\\x04\\xa9?\\x00\\x00\\x00\\x00\\x00\\x00\\x00\\x00\\x00\\x00\\x00\\x00\\x80\\xfa\\xff\\xff\\x00\\x00\\x00\\x00\\x00\\x00\\x00\\x00\\x00\\x00\\x00\\x00\\x90\\xfa\\xff\\xff\\x00\\x00\\x00\\x00\\x0f\\x00\\x00\\x00MLIR Converted.\\x00\\x01\\x00\\x00\\x00\\x14\\x00\\x00\\x00\\x00\\x00\\x0e\\x00\\x18\\x00\\x04\\x00\\x08\\x00\\x0c\\x00\\x10\\x00\\x14\\x00\\x0e\\x00\\x00\\x00\\x00\\x01\\x00\\x00\\xf4\\x00\\x00\\x00\\xe8\\x00\\x00\\x00\\x14\\x00\\x00\\x00\\x04\\x00\\x00\\x00\\x04\\x00\\x00\\x00main\\x00\\x00\\x00\\x00\\x03\\x00\\x00\\x00\\x90\\x00\\x00\\x00H\\x00\\x00\\x00\\x04\\x00\\x00\\x00\\xce\\xff\\xff\\xff\\x00\\x00\\x00\\x08\\x18\\x00\\x00\\x00\\x0c\\x00\\x00\\x00\\x04\\x00\\x00\\x00\\x0c\\xfb\\xff\\xff\\x01\\x00\\x00\\x00\\t\\x00\\x00\\x00\\x03\\x00\\x00\\x00\\x08\\x00\\x00\\x00\\x06\\x00\\x00\\x00\\x03\\x00\\x00\\x00\\x00\\x00\\x0e\\x00\\x14\\x00\\x00\\x00\\x08\\x00\\x0c\\x00\\x07\\x00\\x10\\x00\\x0e\\x00\\x00\\x00\\x00\\x00\\x00\\x08\\x1c\\x00\\x00\\x00\\x10\\x00\\x00\\x00\\x04\\x00\\x00\\x00\\xba\\xff\\xff\\xff\\x00\\x00\\x00\\x01\\x01\\x00\\x00\\x00\\x08\\x00\\x00\\x00\\x03\\x00\\x00\\x00\\x07\\x00\\x00\\x00\\x05\\x00\\x00\\x00\\x02\\x00\\x00\\x00\\x00\\x00\\x0e\\x00\\x16\\x00\\x00\\x00\\x08\\x00\\x0c\\x00\\x07\\x00\\x10\\x00\\x0e\\x00\\x00\\x00\\x00\\x00\\x00\\x08$\\x00\\x00\\x00\\x18\\x00\\x00\\x00\\x0c\\x00\\x00\\x00\\x00\\x00\\x06\\x00\\x08\\x00\\x07\\x00\\x06\\x00\\x00\\x00\\x00\\x00\\x00\\x01\\x01\\x00\\x00\\x00\\x07\\x00\\x00\\x00\\x03\\x00\\x00\\x00\\x00\\x00\\x00\\x00\\x04\\x00\\x00\\x00\\x01\\x00\\x00\\x00\\x01\\x00\\x00\\x00\\t\\x00\\x00\\x00\\x01\\x00\\x00\\x00\\x00\\x00\\x00\\x00\\n\\x00\\x00\\x00\\x10\\x04\\x00\\x00\\xc8\\x03\\x00\\x00\\x84\\x03\\x00\\x00P\\x03\\x00\\x00\\xdc\\x02\\x00\\x00d\\x02\\x00\\x00\\xec\\x01\\x00\\x00 \\x01\\x00\\x00L\\x00\\x00\\x00\\x04\\x00\\x00\\x00,\\xfc\\xff\\xff4\\x00\\x00\\x00\\n\\x00\\x00\\x00\\x1c\\x00\\x00\\x00\\x14\\x00\\x00\\x00\\x04\\x00\\x00\\x00\\x02\\x00\\x00\\x00\\xff\\xff\\xff\\xff\\x01\\x00\\x00\\x00\\x18\\xfc\\xff\\xff\\x08\\x00\\x00\\x00Identity\\x00\\x00\\x00\\x00\\x02\\x00\\x00\\x00\\x01\\x00\\x00\\x00\\x01\\x00\\x00\\x00p\\xfc\\xff\\xff\\xc0\\x00\\x00\\x00\\t\\x00\\x00\\x00\\x1c\\x00\\x00\\x00\\x14\\x00\\x00\\x00\\x04\\x00\\x00\\x00\\x02\\x00\\x00\\x00\\xff\\xff\\xff\\xff\\x14\\x00\\x00\\x00\\\\\\xfc\\xff\\xff\\x95\\x00\\x00\\x00sequential/dense_1/Relu;StatefulPartitionedCall/sequential/dense_1/Relu;sequential/dense_1/BiasAdd;StatefulPartitionedCall/sequential/dense_1/BiasAdd\\x00\\x00\\x00\\x02\\x00\\x00\\x00\\x01\\x00\\x00\\x00\\x14\\x00\\x00\\x00@\\xfd\\xff\\xff\\xb8\\x00\\x00\\x00\\x08\\x00\\x00\\x00\\x1c\\x00\\x00\\x00\\x14\\x00\\x00\\x00\\x04\\x00\\x00\\x00\\x02\\x00\\x00\\x00\\xff\\xff\\xff\\xff\\x14\\x00\\x00\\x00,\\xfd\\xff\\xff\\x8d\\x00\\x00\\x00sequential/dense/Relu;StatefulPartitionedCall/sequential/dense/Relu;sequential/dense/BiasAdd;StatefulPartitionedCall/sequential/dense/BiasAdd\\x00\\x00\\x00\\x02\\x00\\x00\\x00\\x01\\x00\\x00\\x00\\x14\\x00\\x00\\x00F\\xfe\\xff\\xffd\\x00\\x00\\x00\\x07\\x00\\x00\\x00\\x0c\\x00\\x00\\x00\\x04\\x00\\x00\\x00\\xe4\\xfd\\xff\\xffK\\x00\\x00\\x00sequential/dense_2/MatMul;StatefulPartitionedCall/sequential/dense_2/MatMul\\x00\\x02\\x00\\x00\\x00\\x01\\x00\\x00\\x00\\x14\\x00\\x00\\x00\\xba\\xfe\\xff\\xffd\\x00\\x00\\x00\\x06\\x00\\x00\\x00\\x0c\\x00\\x00\\x00\\x04\\x00\\x00\\x00X\\xfe\\xff\\xffK\\x00\\x00\\x00sequential/dense_1/MatMul;StatefulPartitionedCall/sequential/dense_1/MatMul\\x00\\x02\\x00\\x00\\x00\\x14\\x00\\x00\\x00\\x14\\x00\\x00\\x00.\\xff\\xff\\xff`\\x00\\x00\\x00\\x05\\x00\\x00\\x00\\x0c\\x00\\x00\\x00\\x04\\x00\\x00\\x00\\xcc\\xfe\\xff\\xffG\\x00\\x00\\x00sequential/dense/MatMul;StatefulPartitionedCall/sequential/dense/MatMul\\x00\\x02\\x00\\x00\\x00\\x14\\x00\\x00\\x00\\x01\\x00\\x00\\x00\\x9e\\xff\\xff\\xff$\\x00\\x00\\x00\\x04\\x00\\x00\\x00\\x0c\\x00\\x00\\x00\\x04\\x00\\x00\\x00<\\xff\\xff\\xff\\t\\x00\\x00\\x00unknown_4\\x00\\x00\\x00\\x01\\x00\\x00\\x00\\x01\\x00\\x00\\x00\\xce\\xff\\xff\\xff$\\x00\\x00\\x00\\x03\\x00\\x00\\x00\\x0c\\x00\\x00\\x00\\x04\\x00\\x00\\x00l\\xff\\xff\\xff\\t\\x00\\x00\\x00unknown_2\\x00\\x00\\x00\\x01\\x00\\x00\\x00\\x14\\x00\\x00\\x00\\x00\\x00\\x0e\\x00\\x14\\x00\\x04\\x00\\x00\\x00\\x08\\x00\\x0c\\x00\\x10\\x00\\x0e\\x00\\x00\\x00$\\x00\\x00\\x00\\x02\\x00\\x00\\x00\\x0c\\x00\\x00\\x00\\x04\\x00\\x00\\x00\\xac\\xff\\xff\\xff\\t\\x00\\x00\\x00unknown_0\\x00\\x00\\x00\\x01\\x00\\x00\\x00\\x14\\x00\\x00\\x00\\x14\\x00\\x18\\x00\\x04\\x00\\x00\\x00\\x08\\x00\\x0c\\x00\\x10\\x00\\x00\\x00\\x00\\x00\\x14\\x00\\x14\\x00\\x00\\x008\\x00\\x00\\x00\\x01\\x00\\x00\\x00 \\x00\\x00\\x00\\x18\\x00\\x00\\x00\\x04\\x00\\x00\\x00\\x02\\x00\\x00\\x00\\xff\\xff\\xff\\xff\\x01\\x00\\x00\\x00\\x04\\x00\\x04\\x00\\x04\\x00\\x00\\x00\\x0b\\x00\\x00\\x00dense_input\\x00\\x02\\x00\\x00\\x00\\x01\\x00\\x00\\x00\\x01\\x00\\x00\\x00\\x01\\x00\\x00\\x00\\x10\\x00\\x00\\x00\\x00\\x00\\n\\x00\\x0c\\x00\\x07\\x00\\x00\\x00\\x08\\x00\\n\\x00\\x00\\x00\\x00\\x00\\x00\\t\\x03\\x00\\x00\\x00'\n"
     ]
    }
   ],
   "source": [
    "print(tflite_quant_model)"
   ]
  },
  {
   "cell_type": "code",
   "execution_count": 14,
   "metadata": {},
   "outputs": [],
   "source": [
    "model.save_weights('saved_weight/my_model_origin')"
   ]
  },
  {
   "cell_type": "code",
   "execution_count": 15,
   "metadata": {},
   "outputs": [
    {
     "ename": "AttributeError",
     "evalue": "'bytes' object has no attribute 'save_weights'",
     "output_type": "error",
     "traceback": [
      "\u001b[0;31m---------------------------------------------------------------------------\u001b[0m",
      "\u001b[0;31mAttributeError\u001b[0m                            Traceback (most recent call last)",
      "\u001b[0;32m<ipython-input-15-6660b7b847d0>\u001b[0m in \u001b[0;36m<module>\u001b[0;34m\u001b[0m\n\u001b[0;32m----> 1\u001b[0;31m \u001b[0mtflite_quant_model\u001b[0m\u001b[0;34m.\u001b[0m\u001b[0msave_weights\u001b[0m\u001b[0;34m(\u001b[0m\u001b[0;34m'saved_weight/my_model_quant'\u001b[0m\u001b[0;34m)\u001b[0m\u001b[0;34m\u001b[0m\u001b[0;34m\u001b[0m\u001b[0m\n\u001b[0m",
      "\u001b[0;31mAttributeError\u001b[0m: 'bytes' object has no attribute 'save_weights'"
     ]
    }
   ],
   "source": [
    "tflite_quant_model.save_weights('saved_weight/my_model_quant')"
   ]
  },
  {
   "cell_type": "code",
   "execution_count": 26,
   "metadata": {},
   "outputs": [
    {
     "name": "stdout",
     "output_type": "stream",
     "text": [
      "\n",
      "테스트 MSE: 0.046272732\n"
     ]
    }
   ],
   "source": [
    "test_loss, test_mse, test_mae = model.evaluate(inputs, outputs, verbose=0)\n",
    "print('\\n테스트 MSE:', test_mse)"
   ]
  },
  {
   "cell_type": "markdown",
   "metadata": {
    "colab_type": "text",
    "id": "ZwNcu-E97Mgm"
   },
   "source": [
    "## 테스트"
   ]
  },
  {
   "cell_type": "code",
   "execution_count": 28,
   "metadata": {
    "colab": {},
    "colab_type": "code",
    "id": "uQRKT5oR7Mgm",
    "outputId": "9a9aeab1-7557-408f-8eb2-cd97a272c8a4"
   },
   "outputs": [
    {
     "data": {
      "text/plain": [
       "<matplotlib.collections.PathCollection at 0x2a5ced04948>"
      ]
     },
     "execution_count": 28,
     "metadata": {},
     "output_type": "execute_result"
    },
    {
     "data": {
      "image/png": "[encoded data removed]",
      "text/plain": [
       "<Figure size 432x288 with 1 Axes>"
      ]
     },
     "metadata": {
      "needs_background": "light"
     },
     "output_type": "display_data"
    }
   ],
   "source": [
    "test_output_pred = model.predict(inputs)\n",
    "\n",
    "plt.scatter(inputs[:, 0], outputs[:, 0], c='k', marker='o', s=0.1)\n",
    "plt.scatter(inputs[:, 0], test_output_pred[:, 0], c='r', marker='o', s=0.1)"
   ]
  }
 ],
 "metadata": {
  "colab": {
   "collapsed_sections": [],
   "name": "실습2. dnn_sine_regression.ipynb",
   "provenance": []
  },
  "kernelspec": {
   "display_name": "Python 3",
   "language": "python",
   "name": "python3"
  },
  "language_info": {
   "codemirror_mode": {
    "name": "ipython",
    "version": 3
   },
   "file_extension": ".py",
   "mimetype": "text/x-python",
   "name": "python",
   "nbconvert_exporter": "python",
   "pygments_lexer": "ipython3",
   "version": "3.6.9"
  }
 },
 "nbformat": 4,
 "nbformat_minor": 1
}
